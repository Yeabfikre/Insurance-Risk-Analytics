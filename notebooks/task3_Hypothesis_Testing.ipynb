{
  "nbformat": 4,
  "nbformat_minor": 0,
  "metadata": {
    "colab": {
      "provenance": []
    },
    "kernelspec": {
      "name": "python3",
      "display_name": "Python 3"
    },
    "language_info": {
      "name": "python"
    }
  },
  "cells": [
    {
      "cell_type": "markdown",
      "source": [
        "## Data loading and summarization"
      ],
      "metadata": {
        "id": "yNxA35eO1Sd_"
      }
    },
    {
      "cell_type": "code",
      "execution_count": 1,
      "metadata": {
        "colab": {
          "base_uri": "https://localhost:8080/",
          "height": 1000
        },
        "id": "eqL3WYU_NkLy",
        "outputId": "56abe048-814f-4421-8c36-5ae70e5423ce"
      },
      "outputs": [
        {
          "output_type": "display_data",
          "data": {
            "text/plain": [
              "<IPython.core.display.HTML object>"
            ],
            "text/html": [
              "\n",
              "     <input type=\"file\" id=\"files-a786727f-fa2d-46f5-99cc-86656cde98af\" name=\"files[]\" multiple disabled\n",
              "        style=\"border:none\" />\n",
              "     <output id=\"result-a786727f-fa2d-46f5-99cc-86656cde98af\">\n",
              "      Upload widget is only available when the cell has been executed in the\n",
              "      current browser session. Please rerun this cell to enable.\n",
              "      </output>\n",
              "      <script>// Copyright 2017 Google LLC\n",
              "//\n",
              "// Licensed under the Apache License, Version 2.0 (the \"License\");\n",
              "// you may not use this file except in compliance with the License.\n",
              "// You may obtain a copy of the License at\n",
              "//\n",
              "//      http://www.apache.org/licenses/LICENSE-2.0\n",
              "//\n",
              "// Unless required by applicable law or agreed to in writing, software\n",
              "// distributed under the License is distributed on an \"AS IS\" BASIS,\n",
              "// WITHOUT WARRANTIES OR CONDITIONS OF ANY KIND, either express or implied.\n",
              "// See the License for the specific language governing permissions and\n",
              "// limitations under the License.\n",
              "\n",
              "/**\n",
              " * @fileoverview Helpers for google.colab Python module.\n",
              " */\n",
              "(function(scope) {\n",
              "function span(text, styleAttributes = {}) {\n",
              "  const element = document.createElement('span');\n",
              "  element.textContent = text;\n",
              "  for (const key of Object.keys(styleAttributes)) {\n",
              "    element.style[key] = styleAttributes[key];\n",
              "  }\n",
              "  return element;\n",
              "}\n",
              "\n",
              "// Max number of bytes which will be uploaded at a time.\n",
              "const MAX_PAYLOAD_SIZE = 100 * 1024;\n",
              "\n",
              "function _uploadFiles(inputId, outputId) {\n",
              "  const steps = uploadFilesStep(inputId, outputId);\n",
              "  const outputElement = document.getElementById(outputId);\n",
              "  // Cache steps on the outputElement to make it available for the next call\n",
              "  // to uploadFilesContinue from Python.\n",
              "  outputElement.steps = steps;\n",
              "\n",
              "  return _uploadFilesContinue(outputId);\n",
              "}\n",
              "\n",
              "// This is roughly an async generator (not supported in the browser yet),\n",
              "// where there are multiple asynchronous steps and the Python side is going\n",
              "// to poll for completion of each step.\n",
              "// This uses a Promise to block the python side on completion of each step,\n",
              "// then passes the result of the previous step as the input to the next step.\n",
              "function _uploadFilesContinue(outputId) {\n",
              "  const outputElement = document.getElementById(outputId);\n",
              "  const steps = outputElement.steps;\n",
              "\n",
              "  const next = steps.next(outputElement.lastPromiseValue);\n",
              "  return Promise.resolve(next.value.promise).then((value) => {\n",
              "    // Cache the last promise value to make it available to the next\n",
              "    // step of the generator.\n",
              "    outputElement.lastPromiseValue = value;\n",
              "    return next.value.response;\n",
              "  });\n",
              "}\n",
              "\n",
              "/**\n",
              " * Generator function which is called between each async step of the upload\n",
              " * process.\n",
              " * @param {string} inputId Element ID of the input file picker element.\n",
              " * @param {string} outputId Element ID of the output display.\n",
              " * @return {!Iterable<!Object>} Iterable of next steps.\n",
              " */\n",
              "function* uploadFilesStep(inputId, outputId) {\n",
              "  const inputElement = document.getElementById(inputId);\n",
              "  inputElement.disabled = false;\n",
              "\n",
              "  const outputElement = document.getElementById(outputId);\n",
              "  outputElement.innerHTML = '';\n",
              "\n",
              "  const pickedPromise = new Promise((resolve) => {\n",
              "    inputElement.addEventListener('change', (e) => {\n",
              "      resolve(e.target.files);\n",
              "    });\n",
              "  });\n",
              "\n",
              "  const cancel = document.createElement('button');\n",
              "  inputElement.parentElement.appendChild(cancel);\n",
              "  cancel.textContent = 'Cancel upload';\n",
              "  const cancelPromise = new Promise((resolve) => {\n",
              "    cancel.onclick = () => {\n",
              "      resolve(null);\n",
              "    };\n",
              "  });\n",
              "\n",
              "  // Wait for the user to pick the files.\n",
              "  const files = yield {\n",
              "    promise: Promise.race([pickedPromise, cancelPromise]),\n",
              "    response: {\n",
              "      action: 'starting',\n",
              "    }\n",
              "  };\n",
              "\n",
              "  cancel.remove();\n",
              "\n",
              "  // Disable the input element since further picks are not allowed.\n",
              "  inputElement.disabled = true;\n",
              "\n",
              "  if (!files) {\n",
              "    return {\n",
              "      response: {\n",
              "        action: 'complete',\n",
              "      }\n",
              "    };\n",
              "  }\n",
              "\n",
              "  for (const file of files) {\n",
              "    const li = document.createElement('li');\n",
              "    li.append(span(file.name, {fontWeight: 'bold'}));\n",
              "    li.append(span(\n",
              "        `(${file.type || 'n/a'}) - ${file.size} bytes, ` +\n",
              "        `last modified: ${\n",
              "            file.lastModifiedDate ? file.lastModifiedDate.toLocaleDateString() :\n",
              "                                    'n/a'} - `));\n",
              "    const percent = span('0% done');\n",
              "    li.appendChild(percent);\n",
              "\n",
              "    outputElement.appendChild(li);\n",
              "\n",
              "    const fileDataPromise = new Promise((resolve) => {\n",
              "      const reader = new FileReader();\n",
              "      reader.onload = (e) => {\n",
              "        resolve(e.target.result);\n",
              "      };\n",
              "      reader.readAsArrayBuffer(file);\n",
              "    });\n",
              "    // Wait for the data to be ready.\n",
              "    let fileData = yield {\n",
              "      promise: fileDataPromise,\n",
              "      response: {\n",
              "        action: 'continue',\n",
              "      }\n",
              "    };\n",
              "\n",
              "    // Use a chunked sending to avoid message size limits. See b/62115660.\n",
              "    let position = 0;\n",
              "    do {\n",
              "      const length = Math.min(fileData.byteLength - position, MAX_PAYLOAD_SIZE);\n",
              "      const chunk = new Uint8Array(fileData, position, length);\n",
              "      position += length;\n",
              "\n",
              "      const base64 = btoa(String.fromCharCode.apply(null, chunk));\n",
              "      yield {\n",
              "        response: {\n",
              "          action: 'append',\n",
              "          file: file.name,\n",
              "          data: base64,\n",
              "        },\n",
              "      };\n",
              "\n",
              "      let percentDone = fileData.byteLength === 0 ?\n",
              "          100 :\n",
              "          Math.round((position / fileData.byteLength) * 100);\n",
              "      percent.textContent = `${percentDone}% done`;\n",
              "\n",
              "    } while (position < fileData.byteLength);\n",
              "  }\n",
              "\n",
              "  // All done.\n",
              "  yield {\n",
              "    response: {\n",
              "      action: 'complete',\n",
              "    }\n",
              "  };\n",
              "}\n",
              "\n",
              "scope.google = scope.google || {};\n",
              "scope.google.colab = scope.google.colab || {};\n",
              "scope.google.colab._files = {\n",
              "  _uploadFiles,\n",
              "  _uploadFilesContinue,\n",
              "};\n",
              "})(self);\n",
              "</script> "
            ]
          },
          "metadata": {}
        },
        {
          "output_type": "stream",
          "name": "stdout",
          "text": [
            "Saving MachineLearningRating_v3.txt to MachineLearningRating_v3.txt\n"
          ]
        },
        {
          "output_type": "stream",
          "name": "stderr",
          "text": [
            "/tmp/ipython-input-1-2239333905.py:7: DtypeWarning: Columns (32,37) have mixed types. Specify dtype option on import or set low_memory=False.\n",
            "  df = pd.read_csv('MachineLearningRating_v3.txt', sep='|')\n"
          ]
        },
        {
          "output_type": "stream",
          "name": "stdout",
          "text": [
            "       UnderwrittenCoverID      PolicyID    PostalCode        mmcode  \\\n",
            "count         1.000098e+06  1.000098e+06  1.000098e+06  9.995460e+05   \n",
            "mean          1.048175e+05  7.956682e+03  3.020601e+03  5.487770e+07   \n",
            "std           6.329371e+04  5.290039e+03  2.649854e+03  1.360381e+07   \n",
            "min           1.000000e+00  1.400000e+01  1.000000e+00  4.041200e+06   \n",
            "25%           5.514300e+04  4.500000e+03  8.270000e+02  6.005692e+07   \n",
            "50%           9.408300e+04  7.071000e+03  2.000000e+03  6.005842e+07   \n",
            "75%           1.391900e+05  1.107700e+04  4.180000e+03  6.005842e+07   \n",
            "max           3.011750e+05  2.324600e+04  9.870000e+03  6.506535e+07   \n",
            "\n",
            "       RegistrationYear      Cylinders  cubiccapacity      kilowatts  \\\n",
            "count      1.000098e+06  999546.000000  999546.000000  999546.000000   \n",
            "mean       2.010225e+03       4.046642    2466.743258      97.207919   \n",
            "std        3.261391e+00       0.294020     442.800640      19.393256   \n",
            "min        1.987000e+03       0.000000       0.000000       0.000000   \n",
            "25%        2.008000e+03       4.000000    2237.000000      75.000000   \n",
            "50%        2.011000e+03       4.000000    2694.000000     111.000000   \n",
            "75%        2.013000e+03       4.000000    2694.000000     111.000000   \n",
            "max        2.015000e+03      10.000000   12880.000000     309.000000   \n",
            "\n",
            "       NumberOfDoors  CustomValueEstimate  NumberOfVehiclesInFleet  \\\n",
            "count  999546.000000         2.204560e+05                      0.0   \n",
            "mean        4.019250         2.255311e+05                      NaN   \n",
            "std         0.468314         5.645157e+05                      NaN   \n",
            "min         0.000000         2.000000e+04                      NaN   \n",
            "25%         4.000000         1.350000e+05                      NaN   \n",
            "50%         4.000000         2.200000e+05                      NaN   \n",
            "75%         4.000000         2.800000e+05                      NaN   \n",
            "max         6.000000         2.655000e+07                      NaN   \n",
            "\n",
            "         SumInsured  CalculatedPremiumPerTerm  TotalPremium   TotalClaims  \n",
            "count  1.000098e+06              1.000098e+06  1.000098e+06  1.000098e+06  \n",
            "mean   6.041727e+05              1.178757e+02  6.190550e+01  6.486119e+01  \n",
            "std    1.508332e+06              3.997017e+02  2.302845e+02  2.384075e+03  \n",
            "min    1.000000e-02              0.000000e+00 -7.825768e+02 -1.200241e+04  \n",
            "25%    5.000000e+03              3.224800e+00  0.000000e+00  0.000000e+00  \n",
            "50%    7.500000e+03              8.436900e+00  2.178333e+00  0.000000e+00  \n",
            "75%    2.500000e+05              9.000000e+01  2.192982e+01  0.000000e+00  \n",
            "max    1.263620e+07              7.442217e+04  6.528260e+04  3.930921e+05  \n",
            "<class 'pandas.core.frame.DataFrame'>\n",
            "RangeIndex: 1000098 entries, 0 to 1000097\n",
            "Data columns (total 52 columns):\n",
            " #   Column                    Non-Null Count    Dtype  \n",
            "---  ------                    --------------    -----  \n",
            " 0   UnderwrittenCoverID       1000098 non-null  int64  \n",
            " 1   PolicyID                  1000098 non-null  int64  \n",
            " 2   TransactionMonth          1000098 non-null  object \n",
            " 3   IsVATRegistered           1000098 non-null  bool   \n",
            " 4   Citizenship               1000098 non-null  object \n",
            " 5   LegalType                 1000098 non-null  object \n",
            " 6   Title                     1000098 non-null  object \n",
            " 7   Language                  1000098 non-null  object \n",
            " 8   Bank                      854137 non-null   object \n",
            " 9   AccountType               959866 non-null   object \n",
            " 10  MaritalStatus             991839 non-null   object \n",
            " 11  Gender                    990562 non-null   object \n",
            " 12  Country                   1000098 non-null  object \n",
            " 13  Province                  1000098 non-null  object \n",
            " 14  PostalCode                1000098 non-null  int64  \n",
            " 15  MainCrestaZone            1000098 non-null  object \n",
            " 16  SubCrestaZone             1000098 non-null  object \n",
            " 17  ItemType                  1000098 non-null  object \n",
            " 18  mmcode                    999546 non-null   float64\n",
            " 19  VehicleType               999546 non-null   object \n",
            " 20  RegistrationYear          1000098 non-null  int64  \n",
            " 21  make                      999546 non-null   object \n",
            " 22  Model                     999546 non-null   object \n",
            " 23  Cylinders                 999546 non-null   float64\n",
            " 24  cubiccapacity             999546 non-null   float64\n",
            " 25  kilowatts                 999546 non-null   float64\n",
            " 26  bodytype                  999546 non-null   object \n",
            " 27  NumberOfDoors             999546 non-null   float64\n",
            " 28  VehicleIntroDate          999546 non-null   object \n",
            " 29  CustomValueEstimate       220456 non-null   float64\n",
            " 30  AlarmImmobiliser          1000098 non-null  object \n",
            " 31  TrackingDevice            1000098 non-null  object \n",
            " 32  CapitalOutstanding        1000096 non-null  object \n",
            " 33  NewVehicle                846803 non-null   object \n",
            " 34  WrittenOff                358197 non-null   object \n",
            " 35  Rebuilt                   358197 non-null   object \n",
            " 36  Converted                 358197 non-null   object \n",
            " 37  CrossBorder               698 non-null      object \n",
            " 38  NumberOfVehiclesInFleet   0 non-null        float64\n",
            " 39  SumInsured                1000098 non-null  float64\n",
            " 40  TermFrequency             1000098 non-null  object \n",
            " 41  CalculatedPremiumPerTerm  1000098 non-null  float64\n",
            " 42  ExcessSelected            1000098 non-null  object \n",
            " 43  CoverCategory             1000098 non-null  object \n",
            " 44  CoverType                 1000098 non-null  object \n",
            " 45  CoverGroup                1000098 non-null  object \n",
            " 46  Section                   1000098 non-null  object \n",
            " 47  Product                   1000098 non-null  object \n",
            " 48  StatutoryClass            1000098 non-null  object \n",
            " 49  StatutoryRiskType         1000098 non-null  object \n",
            " 50  TotalPremium              1000098 non-null  float64\n",
            " 51  TotalClaims               1000098 non-null  float64\n",
            "dtypes: bool(1), float64(11), int64(4), object(36)\n",
            "memory usage: 390.1+ MB\n",
            "NumberOfVehiclesInFleet     1000098\n",
            "CrossBorder                  999400\n",
            "CustomValueEstimate          779642\n",
            "Rebuilt                      641901\n",
            "Converted                    641901\n",
            "WrittenOff                   641901\n",
            "NewVehicle                   153295\n",
            "Bank                         145961\n",
            "AccountType                   40232\n",
            "Gender                         9536\n",
            "MaritalStatus                  8259\n",
            "VehicleType                     552\n",
            "make                            552\n",
            "mmcode                          552\n",
            "Model                           552\n",
            "Cylinders                       552\n",
            "bodytype                        552\n",
            "kilowatts                       552\n",
            "NumberOfDoors                   552\n",
            "VehicleIntroDate                552\n",
            "cubiccapacity                   552\n",
            "CapitalOutstanding                2\n",
            "SubCrestaZone                     0\n",
            "ItemType                          0\n",
            "Province                          0\n",
            "Country                           0\n",
            "PostalCode                        0\n",
            "MainCrestaZone                    0\n",
            "Title                             0\n",
            "Language                          0\n",
            "TransactionMonth                  0\n",
            "IsVATRegistered                   0\n",
            "UnderwrittenCoverID               0\n",
            "PolicyID                          0\n",
            "LegalType                         0\n",
            "Citizenship                       0\n",
            "AlarmImmobiliser                  0\n",
            "TrackingDevice                    0\n",
            "RegistrationYear                  0\n",
            "SumInsured                        0\n",
            "TermFrequency                     0\n",
            "CalculatedPremiumPerTerm          0\n",
            "ExcessSelected                    0\n",
            "CoverCategory                     0\n",
            "CoverType                         0\n",
            "CoverGroup                        0\n",
            "Section                           0\n",
            "Product                           0\n",
            "StatutoryClass                    0\n",
            "StatutoryRiskType                 0\n",
            "TotalPremium                      0\n",
            "TotalClaims                       0\n",
            "dtype: int64\n"
          ]
        }
      ],
      "source": [
        "from google.colab import files\n",
        "uploaded = files.upload()\n",
        "\n",
        "import pandas as pd\n",
        "\n",
        "\n",
        "df = pd.read_csv('MachineLearningRating_v3.txt', sep='|')\n",
        "\n",
        "print(df.describe())\n",
        "df.info()\n",
        "\n",
        "missing_values = df.isnull().sum().sort_values(ascending=False)\n",
        "print(missing_values)\n"
      ]
    },
    {
      "cell_type": "markdown",
      "source": [
        "## Trend over time"
      ],
      "metadata": {
        "id": "ZXIwVLtF1a7r"
      }
    },
    {
      "cell_type": "code",
      "source": [
        "df['TransactionMonth'] = pd.to_datetime(df['TransactionMonth'])\n",
        "\n",
        "# Select only numeric columns for summation\n",
        "numeric_cols = df.select_dtypes(include=['number']).columns\n",
        "monthly = df.groupby(pd.Grouper(key='TransactionMonth', freq='ME'))[numeric_cols].sum()\n",
        "\n",
        "monthly[['TotalClaims', 'TotalPremium']].plot(title='Claims and Premium Over Time')"
      ],
      "metadata": {
        "colab": {
          "base_uri": "https://localhost:8080/",
          "height": 505
        },
        "id": "aHetL5HzN1vx",
        "outputId": "e803a051-e9b3-4ec6-f851-0b9a9bdc920f"
      },
      "execution_count": 4,
      "outputs": [
        {
          "output_type": "execute_result",
          "data": {
            "text/plain": [
              "<Axes: title={'center': 'Claims and Premium Over Time'}, xlabel='TransactionMonth'>"
            ]
          },
          "metadata": {},
          "execution_count": 4
        },
        {
          "output_type": "display_data",
          "data": {
            "text/plain": [
              "<Figure size 640x480 with 1 Axes>"
            ],
            "image/png": "[encoded data removed]"
          },
          "metadata": {}
        }
      ]
    },
    {
      "cell_type": "markdown",
      "source": [
        "## Hypothesis Testing Setup"
      ],
      "metadata": {
        "id": "M9ZQ2plm1fXf"
      }
    },
    {
      "cell_type": "code",
      "source": [
        "import numpy as np\n",
        "\n",
        "\n",
        "df['ClaimOccurred'] = (df['TotalClaims'] > 0).astype(int)\n",
        "df['ClaimFrequency'] = df.groupby('PostalCode')['ClaimOccurred'].transform('mean')\n",
        "\n",
        "df['ClaimSeverity'] = np.where(df['ClaimOccurred'] == 1, df['TotalClaims'], np.nan)"
      ],
      "metadata": {
        "id": "BzTfCxu7fId1"
      },
      "execution_count": 5,
      "outputs": []
    },
    {
      "cell_type": "code",
      "source": [
        "from scipy.stats import f_oneway\n",
        "\n",
        "df['LossRatio'] = df['TotalClaims'] / df['TotalPremium'].replace(0, np.nan)\n",
        "groups = [group['LossRatio'].dropna() for _, group in df.groupby('Province')]\n",
        "f_stat, p_value = f_oneway(*groups)\n",
        "print(f\"F-Stat: {f_stat}, p-value: {p_value}\")"
      ],
      "metadata": {
        "colab": {
          "base_uri": "https://localhost:8080/"
        },
        "id": "AXubethI0dFx",
        "outputId": "023590ce-aa60-488f-88cd-139593b4133b"
      },
      "execution_count": 6,
      "outputs": [
        {
          "output_type": "stream",
          "name": "stdout",
          "text": [
            "F-Stat: 4.988778295471582, p-value: 3.331023367970376e-06\n"
          ]
        }
      ]
    },
    {
      "cell_type": "markdown",
      "source": [
        "##  ZipCode margin differences"
      ],
      "metadata": {
        "id": "ipsbvhAt0jtN"
      }
    },
    {
      "cell_type": "code",
      "source": [
        "df['Margin'] = df['TotalPremium'] - df['TotalClaims']\n",
        "zipcode_margins = df.groupby('PostalCode')['Margin'].mean()\n",
        "from scipy.stats import kruskal\n",
        "\n",
        "grouped = df.groupby('PostalCode')['Margin'].apply(list)\n",
        "filtered = [g for g in grouped if len(g) > 1]\n",
        "\n",
        "if len(filtered) > 1:\n",
        "    stat, p = kruskal(*filtered)\n",
        "    print(f\"Kruskal-Wallis p-value for ZipCodes: {p}\")\n",
        "else:\n",
        "    print(\"Not enough valid Zip groups for Kruskal-Wallis test.\")\n"
      ],
      "metadata": {
        "colab": {
          "base_uri": "https://localhost:8080/"
        },
        "id": "PjuijnwU0frD",
        "outputId": "dbf39d04-0f65-4193-82b3-8ad07436f740"
      },
      "execution_count": 7,
      "outputs": [
        {
          "output_type": "stream",
          "name": "stdout",
          "text": [
            "Kruskal-Wallis p-value for ZipCodes: 0.0\n"
          ]
        }
      ]
    },
    {
      "cell_type": "markdown",
      "source": [
        "## Gender differences in risk\n"
      ],
      "metadata": {
        "id": "xbjpVZ6G0tTu"
      }
    },
    {
      "cell_type": "code",
      "source": [
        "import numpy as np\n",
        "from scipy.stats import ttest_ind\n",
        "\n",
        "df['LossRatio'] = df['TotalClaims'] / df['TotalPremium'].replace(0, np.nan)\n",
        "\n",
        "\n",
        "male = df[df['Gender'] == 'Male']['LossRatio']\n",
        "male = male[np.isfinite(male)]\n",
        "\n",
        "female = df[df['Gender'] == 'Female']['LossRatio']\n",
        "female = female[np.isfinite(female)]\n",
        "\n",
        "t_stat, p_val = ttest_ind(male, female)\n",
        "print(f\"T-Test Gender: p = {p_val:.5f}\")"
      ],
      "metadata": {
        "colab": {
          "base_uri": "https://localhost:8080/"
        },
        "id": "8ysWoshy0oHk",
        "outputId": "661fcf2e-3cdc-4e45-8854-277507f8e387"
      },
      "execution_count": 8,
      "outputs": [
        {
          "output_type": "stream",
          "name": "stdout",
          "text": [
            "T-Test Gender: p = 0.36189\n"
          ]
        }
      ]
    }
  ]
}